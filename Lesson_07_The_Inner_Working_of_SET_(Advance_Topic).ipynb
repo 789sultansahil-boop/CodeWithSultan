{
  "nbformat": 4,
  "nbformat_minor": 0,
  "metadata": {
    "colab": {
      "provenance": []
    },
    "kernelspec": {
      "name": "python3",
      "display_name": "Python 3"
    },
    "language_info": {
      "name": "python"
    }
  },
  "cells": [
    {
      "cell_type": "markdown",
      "source": [
        "**Q.1 Experiment with adding objects that support custom _hash() and __eq_() to a set, and observe how collisions are handled.**"
      ],
      "metadata": {
        "id": "bGMgnrxjr8e5"
      }
    },
    {
      "cell_type": "code",
      "source": [
        "class MyObject:\n",
        "    def __init__(self, value):\n",
        "        self.value = value\n",
        "\n",
        "    # one hash for all sets\n",
        "    def __hash__(self):\n",
        "        return 42\n",
        "\n",
        "    # comparison value\n",
        "    def __eq__(self, other):\n",
        "        return self.value == other.value\n",
        "\n",
        "# Objects\n",
        "obj1 = MyObject(10)\n",
        "obj2 = MyObject(20)\n",
        "obj3 = MyObject(10)\n",
        "\n",
        "# keep in set\n",
        "s = {obj1, obj2, obj3}\n",
        "\n",
        "print(\"size of set:\", len(s))\n",
        "for o in s:\n",
        "    print(\"Value:\", o.value)"
      ],
      "metadata": {
        "colab": {
          "base_uri": "https://localhost:8080/"
        },
        "id": "ejE4gX_NvCfO",
        "outputId": "cf59edb1-9f98-4a0c-ce23-cb4f3db9b001"
      },
      "execution_count": 12,
      "outputs": [
        {
          "output_type": "stream",
          "name": "stdout",
          "text": [
            "size of set: 2\n",
            "Value: 10\n",
            "Value: 20\n"
          ]
        }
      ]
    },
    {
      "cell_type": "markdown",
      "source": [
        "**Q.2 Use the sys.getsizeof() function to compare memory usage of sets with different numbers of elements.**"
      ],
      "metadata": {
        "id": "8LTdrWSHvC5x"
      }
    },
    {
      "cell_type": "code",
      "source": [
        "import sys\n",
        "\n",
        "# set for different size\n",
        "set1 = set()                  # empty set\n",
        "set2 = {1}                    # 1 element\n",
        "set3 = {1, 2, 3, 4, 5}        # 5 elements\n",
        "set4 = set(range(100))        # 100 elements\n",
        "set5 = set(range(1000))       # 1000 elements\n",
        "\n",
        "# print the Memory size\n",
        "print(\"Empty set:\", sys.getsizeof(set1), \"bytes\")\n",
        "print(\"1 element:\", sys.getsizeof(set2), \"bytes\")\n",
        "print(\"5 elements:\", sys.getsizeof(set3), \"bytes\")\n",
        "print(\"100 elements:\", sys.getsizeof(set4), \"bytes\")\n",
        "print(\"1000 elements:\", sys.getsizeof(set5), \"bytes\")"
      ],
      "metadata": {
        "colab": {
          "base_uri": "https://localhost:8080/"
        },
        "id": "duLRas10vJMH",
        "outputId": "7bc7ae7c-4859-4116-b148-9798699f5338"
      },
      "execution_count": 13,
      "outputs": [
        {
          "output_type": "stream",
          "name": "stdout",
          "text": [
            "Empty set: 216 bytes\n",
            "1 element: 216 bytes\n",
            "5 elements: 472 bytes\n",
            "100 elements: 8408 bytes\n",
            "1000 elements: 32984 bytes\n"
          ]
        }
      ]
    },
    {
      "cell_type": "markdown",
      "source": [
        "**Q.3  Demonstrate how modifying a set’s mutable item (added as tuple of a mutable object) affects membership and integrity.**"
      ],
      "metadata": {
        "id": "fnc6qcvfvJe9"
      }
    },
    {
      "cell_type": "code",
      "source": [
        "# put a list in a tuple\n",
        "tuple1 = ([1, 2, 3],)\n",
        "\n",
        "# put a list in a tuple\n",
        "set1 = set()\n",
        "try:\n",
        "    set1.add(tuple1)\n",
        "except TypeError as e:\n",
        "    print(\"Error:\", e)"
      ],
      "metadata": {
        "colab": {
          "base_uri": "https://localhost:8080/"
        },
        "id": "2N06G8CwvN9-",
        "outputId": "8391a0ef-c730-48a0-e645-11f4fbb170cb"
      },
      "execution_count": 14,
      "outputs": [
        {
          "output_type": "stream",
          "name": "stdout",
          "text": [
            "Error: unhashable type: 'list'\n"
          ]
        }
      ]
    },
    {
      "cell_type": "markdown",
      "source": [
        "**Q.4  Analyze how Python’s hash function behaves across sessions—store the hash of a string, restart session, and check consistency.**"
      ],
      "metadata": {
        "id": "lBW1Ws80vPb7"
      }
    },
    {
      "cell_type": "code",
      "source": [
        "string1 = \"hello\"\n",
        "print(hash(string1))\n",
        "# first time out put = -6336475113472908547\n",
        "string2 = \"hello\"\n",
        "print(hash(string2))\n",
        "#  output secend time my be changed or my be no changed lets cheak it"
      ],
      "metadata": {
        "colab": {
          "base_uri": "https://localhost:8080/"
        },
        "id": "mcKVHeiwvOtu",
        "outputId": "8e492525-dead-4ede-a5d9-c77498d19053"
      },
      "execution_count": 20,
      "outputs": [
        {
          "output_type": "stream",
          "name": "stdout",
          "text": [
            "-6336475113472908547\n",
            "-6336475113472908547\n"
          ]
        }
      ]
    },
    {
      "cell_type": "markdown",
      "source": [
        "**Q.5 Trigger garbage collection manually (e.g., gc.collect()), delete large sets, and report on reclaimed memory.**"
      ],
      "metadata": {
        "id": "RIQiyJhqvWQN"
      }
    },
    {
      "cell_type": "code",
      "source": [
        "import gc\n",
        "import sys\n",
        "\n",
        "# make a large set\n",
        "big_set = set(range(1000000))  # 10 lakh elements\n",
        "print(\"Memory used by big_set:\", sys.getsizeof(big_set), \"bytes\")\n",
        "\n",
        "# big_set delete\n",
        "del big_set\n",
        "\n",
        "# Run Manual garbage collection\n",
        "gc.collect()\n",
        "\n",
        "print(\"Garbage collection done. Memory reclaimed.\")"
      ],
      "metadata": {
        "colab": {
          "base_uri": "https://localhost:8080/"
        },
        "id": "UtHVWQxYvbPo",
        "outputId": "7060e0ef-ab9b-4b5e-dd59-06ffb7d52a9f"
      },
      "execution_count": 21,
      "outputs": [
        {
          "output_type": "stream",
          "name": "stdout",
          "text": [
            "Memory used by big_set: 33554648 bytes\n",
            "Garbage collection done. Memory reclaimed.\n"
          ]
        }
      ]
    },
    {
      "cell_type": "markdown",
      "source": [
        "**Q.6 Use weakref.WeakSet to hold references to objects and show how deleting original objects affects the WeakSet.**"
      ],
      "metadata": {
        "id": "XGD2Nwr304Dw"
      }
    },
    {
      "cell_type": "code",
      "source": [
        "import weakref\n",
        "\n",
        "class MyClass:\n",
        "    def __init__(self, name):\n",
        "        self.name = name\n",
        "\n",
        "# Make a Objects\n",
        "obj1 = MyClass(\"A\")\n",
        "obj2 = MyClass(\"B\")\n",
        "\n",
        "# Make a WeakSet\n",
        "ws = weakref.WeakSet()\n",
        "\n",
        "# Put the Objects in WeakSet\n",
        "ws.add(obj1)\n",
        "ws.add(obj2)\n",
        "\n",
        "print(\"WeakSet initially:\", [o.name for o in ws])\n",
        "\n",
        "# delete one object\n",
        "del obj1\n",
        "\n",
        "print(\"After deleting obj1:\", [o.name for o in ws])"
      ],
      "metadata": {
        "colab": {
          "base_uri": "https://localhost:8080/"
        },
        "id": "JX5TrPRS1AQ_",
        "outputId": "9569ba61-24f0-4151-d126-e0bba04cc429"
      },
      "execution_count": 22,
      "outputs": [
        {
          "output_type": "stream",
          "name": "stdout",
          "text": [
            "WeakSet initially: ['B', 'A']\n",
            "After deleting obj1: ['B']\n"
          ]
        }
      ]
    },
    {
      "cell_type": "markdown",
      "source": [
        "**Q.7 Use frozenset as keys in a dictionary and demonstrate why regular sets cannot be used.**"
      ],
      "metadata": {
        "id": "H-C9SvS310jj"
      }
    },
    {
      "cell_type": "code",
      "source": [
        "# Use a set() as a key\n",
        "my_dict = {}\n",
        "\n",
        "try:\n",
        "    my_dict[{1, 2, 3}] = \"This will fail\"\n",
        "except TypeError as e:\n",
        "    print(\"Error using set as dict key:\", e)\n",
        "\n",
        "# ✅ Use frozenset as a key\n",
        "my_dict[frozenset({1, 2, 3})] = \"This works fine\"\n",
        "my_dict[frozenset({4, 5})] = \"Another value\"\n",
        "\n",
        "print(\"Dictionary with frozenset keys:\", my_dict)\n"
      ],
      "metadata": {
        "colab": {
          "base_uri": "https://localhost:8080/"
        },
        "id": "AD0-Orjx130r",
        "outputId": "41af26ad-5091-439a-e24a-3581e1fc942c"
      },
      "execution_count": 25,
      "outputs": [
        {
          "output_type": "stream",
          "name": "stdout",
          "text": [
            "Error using set as dict key: unhashable type: 'set'\n",
            "Dictionary with frozenset keys: {frozenset({1, 2, 3}): 'This works fine', frozenset({4, 5}): 'Another value'}\n"
          ]
        }
      ]
    },
    {
      "cell_type": "markdown",
      "source": [
        "**Q.8 Create a large set and measure lookup time versus list—explain performance differences.**"
      ],
      "metadata": {
        "id": "PqcPUtHJ14Ei"
      }
    },
    {
      "cell_type": "code",
      "source": [
        "import time\n",
        "\n",
        "# Make a large list[] and set()\n",
        "large_list = list(range(1, 1000000))   # 10 لاکھ elements\n",
        "large_set = set(range(1, 1000000))     # 10 لاکھ elements\n",
        "\n",
        "# element search\n",
        "target = 999999\n",
        "\n",
        "# List lookup time\n",
        "start = time.time()\n",
        "found_in_list = target in large_list\n",
        "end = time.time()\n",
        "print(\"List lookup:\", found_in_list, \"Time:\", end - start)\n",
        "\n",
        "# Set lookup time\n",
        "start = time.time()\n",
        "found_in_set = target in large_set\n",
        "end = time.time()\n",
        "print(\"Set lookup:\", found_in_set, \"Time:\", end - start)\n"
      ],
      "metadata": {
        "colab": {
          "base_uri": "https://localhost:8080/"
        },
        "id": "LAJFRBZc19l_",
        "outputId": "6a080ff1-3bcb-4aa1-9fca-9a2c85c7612d"
      },
      "execution_count": 26,
      "outputs": [
        {
          "output_type": "stream",
          "name": "stdout",
          "text": [
            "List lookup: True Time: 0.013353109359741211\n",
            "Set lookup: True Time: 7.43865966796875e-05\n"
          ]
        }
      ]
    },
    {
      "cell_type": "markdown",
      "source": [
        "**Q.9 Use gc.get_objects() to list all Python objects in memory and filter for sets to inspect their count.**"
      ],
      "metadata": {
        "id": "9Qmz3RBd197V"
      }
    },
    {
      "cell_type": "code",
      "source": [
        "import gc\n",
        "\n",
        "# Create some sets()\n",
        "s1 = {1, 2, 3}\n",
        "s2 = {4, 5, 6}\n",
        "s3 = set([7, 8, 9])\n",
        "\n",
        "# Take out objects from garbage collector\n",
        "all_objects = gc.get_objects()\n",
        "\n",
        "# filter only those objects who are set\n",
        "set_objects = [obj for obj in all_objects if isinstance(obj, set)]\n",
        "\n",
        "print(\"Total sets in memory:\", len(set_objects))\n",
        "\n",
        "# optional: Some set() are print\n",
        "print(\"Sample sets from memory:\", set_objects[:5])"
      ],
      "metadata": {
        "colab": {
          "base_uri": "https://localhost:8080/"
        },
        "id": "wnC8wU-j2Dxb",
        "outputId": "8f9a02f9-7e55-4107-e3fc-dd780171df53"
      },
      "execution_count": 27,
      "outputs": [
        {
          "output_type": "stream",
          "name": "stdout",
          "text": [
            "Total sets in memory: 5534\n",
            "Sample sets from memory: [{1, 2, 3}, {4, 5, 6}, {8, 9, 7}, {<weakref at 0x7c4ca57b4f90; to 'MyClass' at 0x7c4ca5d64290>}, set()]\n"
          ]
        }
      ]
    },
    {
      "cell_type": "markdown",
      "source": [
        "**Q.10 Write a small benchmark comparing creation speeds of list, tuple, set, and frozenset containers.**"
      ],
      "metadata": {
        "id": "E_HuE4c12EAz"
      }
    },
    {
      "cell_type": "code",
      "source": [
        "import timeit\n",
        "\n",
        "# counting of Elements\n",
        "N = 10000\n",
        "\n",
        "# list creation benchmark\n",
        "list_time = timeit.timeit(stmt=\"[i for i in range(N)]\", globals=globals(), number=1000)\n",
        "\n",
        "# tuple creation benchmark\n",
        "tuple_time = timeit.timeit(stmt=\"tuple(range(N))\", globals=globals(), number=1000)\n",
        "\n",
        "# set creation benchmark\n",
        "set_time = timeit.timeit(stmt=\"{i for i in range(N)}\", globals=globals(), number=1000)\n",
        "\n",
        "# frozenset creation benchmark\n",
        "frozenset_time = timeit.timeit(stmt=\"frozenset(range(N))\", globals=globals(), number=1000)\n",
        "\n",
        "print(f\"List creation time:      {list_time:.6f} seconds\")\n",
        "print(f\"Tuple creation time:     {tuple_time:.6f} seconds\")\n",
        "print(f\"Set creation time:       {set_time:.6f} seconds\")\n",
        "print(f\"Frozenset creation time: {frozenset_time:.6f} seconds\")\n"
      ],
      "metadata": {
        "colab": {
          "base_uri": "https://localhost:8080/"
        },
        "id": "uXH7Y9Sd2JdY",
        "outputId": "b2eb2ef6-81c7-47fb-f6d4-90baed19449b"
      },
      "execution_count": 28,
      "outputs": [
        {
          "output_type": "stream",
          "name": "stdout",
          "text": [
            "List creation time:      0.305749 seconds\n",
            "Tuple creation time:     0.234976 seconds\n",
            "Set creation time:       0.400793 seconds\n",
            "Frozenset creation time: 0.329089 seconds\n"
          ]
        }
      ]
    }
  ]
}