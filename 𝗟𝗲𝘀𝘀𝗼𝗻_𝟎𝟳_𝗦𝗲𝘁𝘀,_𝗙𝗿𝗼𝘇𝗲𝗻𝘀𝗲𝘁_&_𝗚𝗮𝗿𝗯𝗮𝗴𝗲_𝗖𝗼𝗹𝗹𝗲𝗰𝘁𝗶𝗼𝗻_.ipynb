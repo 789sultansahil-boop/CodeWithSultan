{
  "nbformat": 4,
  "nbformat_minor": 0,
  "metadata": {
    "colab": {
      "provenance": []
    },
    "kernelspec": {
      "name": "python3",
      "display_name": "Python 3"
    },
    "language_info": {
      "name": "python"
    }
  },
  "cells": [
    {
      "cell_type": "markdown",
      "source": [
        "**Q.1 Create a set of 5 fruits and print it.**"
      ],
      "metadata": {
        "id": "I8w5dygeQt22"
      }
    },
    {
      "cell_type": "code",
      "source": [
        "fruits_set = {\"apple\", \"banana\", \"cherry\", \"date\", \"elderberry\"}\n",
        "print(fruits_set)"
      ],
      "metadata": {
        "colab": {
          "base_uri": "https://localhost:8080/"
        },
        "id": "t8SGLLGCRS5i",
        "outputId": "287e9154-9359-463d-b4c4-9abba1083681"
      },
      "execution_count": 24,
      "outputs": [
        {
          "output_type": "stream",
          "name": "stdout",
          "text": [
            "{'elderberry', 'banana', 'cherry', 'date', 'apple'}\n"
          ]
        }
      ]
    },
    {
      "cell_type": "markdown",
      "source": [
        "**Q.2 Add one new fruit to your set using .add() and print the updated set.**"
      ],
      "metadata": {
        "id": "Fj37C0K1Rz9I"
      }
    },
    {
      "cell_type": "code",
      "source": [
        "fruits_set.add(\"orange\")\n",
        "print(fruits_set)"
      ],
      "metadata": {
        "colab": {
          "base_uri": "https://localhost:8080/"
        },
        "id": "13ufirZTR-Hd",
        "outputId": "bbfb560f-3590-4d12-d4cd-a46b844129e2"
      },
      "execution_count": 25,
      "outputs": [
        {
          "output_type": "stream",
          "name": "stdout",
          "text": [
            "{'elderberry', 'banana', 'cherry', 'date', 'apple', 'orange'}\n"
          ]
        }
      ]
    },
    {
      "cell_type": "markdown",
      "source": [
        "**Q.3 Remove an existing fruit using .remove() (and explain if it errors when missing).**"
      ],
      "metadata": {
        "id": "LFmocsxMSiZp"
      }
    },
    {
      "cell_type": "code",
      "source": [
        "fruits_set.remove(\"orange\") #remove() methode raised errors if item not have\n",
        "print(fruits_set)"
      ],
      "metadata": {
        "colab": {
          "base_uri": "https://localhost:8080/"
        },
        "id": "kZ7Yz_hPSN_E",
        "outputId": "dccfda0b-440b-47f6-f370-ddb168fc28a1"
      },
      "execution_count": 26,
      "outputs": [
        {
          "output_type": "stream",
          "name": "stdout",
          "text": [
            "{'elderberry', 'banana', 'cherry', 'date', 'apple'}\n"
          ]
        }
      ]
    },
    {
      "cell_type": "markdown",
      "source": [
        "**Q.4 Remove another fruit using .discard() (and note the difference from .remove()).**"
      ],
      "metadata": {
        "id": "3IUR4KoYSzFy"
      }
    },
    {
      "cell_type": "code",
      "source": [
        "fruits_set.discard(\"banana\") #discard() methode not raised errors if item not have he simple runing vithout any item printing\n",
        "print(fruits_set)"
      ],
      "metadata": {
        "colab": {
          "base_uri": "https://localhost:8080/"
        },
        "id": "NgHu9TspS_Vk",
        "outputId": "aca74282-2606-41d0-f980-727e248c4193"
      },
      "execution_count": 27,
      "outputs": [
        {
          "output_type": "stream",
          "name": "stdout",
          "text": [
            "{'elderberry', 'cherry', 'date', 'apple'}\n"
          ]
        }
      ]
    },
    {
      "cell_type": "markdown",
      "source": [
        "**Q.5 Use .pop() to remove an arbitrary item and print the result.**"
      ],
      "metadata": {
        "id": "Sl1hcqoMT9Gl"
      }
    },
    {
      "cell_type": "code",
      "source": [
        "fruits_set.pop() #pop() methode raised errors if item not have\n",
        "print(\"pop method:\", fruits_set)"
      ],
      "metadata": {
        "colab": {
          "base_uri": "https://localhost:8080/"
        },
        "id": "1pKZppUwUEOz",
        "outputId": "1e156651-f748-4c8a-f1e6-3c61c9287853"
      },
      "execution_count": 29,
      "outputs": [
        {
          "output_type": "stream",
          "name": "stdout",
          "text": [
            "pop method: {'date', 'apple'}\n"
          ]
        }
      ]
    },
    {
      "cell_type": "markdown",
      "source": [
        "**Q.6 Clear the remaining items using .clear() and show that the set is now empty.**"
      ],
      "metadata": {
        "id": "V1x4_YC6UUAN"
      }
    },
    {
      "cell_type": "code",
      "source": [
        "fruits_set.clear() #empty set\n",
        "print(\"empthy set:\", fruits_set)"
      ],
      "metadata": {
        "colab": {
          "base_uri": "https://localhost:8080/"
        },
        "id": "sbXYfJJ9UcEj",
        "outputId": "4d82ee44-2137-416c-8779-733898a373c1"
      },
      "execution_count": 30,
      "outputs": [
        {
          "output_type": "stream",
          "name": "stdout",
          "text": [
            "empthy set: set()\n"
          ]
        }
      ]
    },
    {
      "cell_type": "markdown",
      "source": [
        "**Q.7 Create two sets of numbers and display their union(), intersection(), difference(), symmetric_difference().**"
      ],
      "metadata": {
        "id": "psijAHUxUvIL"
      }
    },
    {
      "cell_type": "code",
      "source": [
        "set1 = {10,20,30,40,50}\n",
        "set2 = {40,30,50,60,20}\n",
        "set3 = set1.union(set2)\n",
        "print(\"union method:\", set3) #union method\n",
        "print()\n",
        "set3 = set1.intersection(set2)\n",
        "print(\"intersection method:\", set3) #intersection method\n",
        "print()\n",
        "set3 = set1.difference(set2)\n",
        "print(\"difference method:\", set3) #difference method\n",
        "print()\n",
        "set3 = set1.symmetric_difference(set2)\n",
        "print(\"symmetric_difference method:\", set3) #symmetric_difference method"
      ],
      "metadata": {
        "colab": {
          "base_uri": "https://localhost:8080/"
        },
        "id": "Gi_lDviQU33S",
        "outputId": "d583fa3d-859d-4792-e0bb-e059f5c671ab"
      },
      "execution_count": 31,
      "outputs": [
        {
          "output_type": "stream",
          "name": "stdout",
          "text": [
            "union method: {40, 10, 50, 20, 60, 30}\n",
            "\n",
            "intersection method: {40, 50, 20, 30}\n",
            "\n",
            "difference method: {10}\n",
            "\n",
            "symmetric_difference method: {10, 60}\n"
          ]
        }
      ]
    },
    {
      "cell_type": "code",
      "source": [
        "print(\"Is set2 a superset of set1?\", set2.issuperset(set1))\n",
        "print(\"Is set1 a superset of set2?\", set1.issuperset(set2))"
      ],
      "metadata": {
        "id": "THC8D4uKcOFC"
      },
      "execution_count": null,
      "outputs": []
    },
    {
      "cell_type": "markdown",
      "source": [
        "**Q.8 Check if one set is a subset or superset of another, and print results.**"
      ],
      "metadata": {
        "id": "N09jtRbQXDTc"
      }
    },
    {
      "cell_type": "code",
      "source": [
        "print(\"is set1 a subset of set2?:\", set1.issubset(set2))\n",
        "print(\"is set2 a subset of set1?:\", set2.issubset(set1))\n",
        "print()\n",
        "print(\"is set2 a superset of set1?:\", set2.issuperset(set1))\n",
        "print(\"is set1 a superset of set2?:\", set1.issuperset(set2))"
      ],
      "metadata": {
        "colab": {
          "base_uri": "https://localhost:8080/"
        },
        "id": "sIVeSGOCXMWO",
        "outputId": "14468a1b-6375-4b4e-e517-2104923eb14a"
      },
      "execution_count": 46,
      "outputs": [
        {
          "output_type": "stream",
          "name": "stdout",
          "text": [
            "is set1 a subset of set2?: False\n",
            "is set2 a subset of set1?: False\n",
            "\n",
            "is set2 a superset of set1?: False\n",
            "is set1 a superset of set2?: False\n"
          ]
        }
      ]
    },
    {
      "cell_type": "markdown",
      "source": [
        "**Q.9 Declare a frozenset of vowels and try adding an item — observe the immutability error.**"
      ],
      "metadata": {
        "id": "szoy3clidRmm"
      }
    },
    {
      "cell_type": "code",
      "source": [
        "vowels = frozenset({\"a\",\"e\",\"i\",\"o\",\"u\"})\n",
        "#vowels.add(\"b\") #he raised error\n",
        "#print(vowels)"
      ],
      "metadata": {
        "id": "SPdsIlC5ex6G"
      },
      "execution_count": 54,
      "outputs": []
    },
    {
      "cell_type": "markdown",
      "source": [
        "**Q.10 Use a loop to check membership of a user-input character in the set of vowels.**"
      ],
      "metadata": {
        "id": "sSyjPpGUfeSz"
      }
    },
    {
      "cell_type": "code",
      "source": [
        "vowels = {\"a\", \"e\", \"i\", \"o\", \"u\"} #set of vowels\n",
        "\n",
        "char = input(\"Enter a character: \").lower() #input from a user\n",
        "\n",
        "found = False #check membership\n",
        "for v in vowels:\n",
        "    if char == v:\n",
        "        found = True\n",
        "        break\n",
        "\n",
        "if found: #print result\n",
        "    print(f\"'{char}' is a vowel.\")\n",
        "else:\n",
        "    print(f\"'{char}' is not a vowel.\")\n"
      ],
      "metadata": {
        "colab": {
          "base_uri": "https://localhost:8080/"
        },
        "id": "IQqvzN5NflnG",
        "outputId": "5d0f0345-59f0-40d8-9b53-83845d09302a"
      },
      "execution_count": 57,
      "outputs": [
        {
          "output_type": "stream",
          "name": "stdout",
          "text": [
            "Enter a character: v\n",
            "'v' is not a vowel.\n"
          ]
        }
      ]
    }
  ]
}