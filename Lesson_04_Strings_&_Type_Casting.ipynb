{
  "nbformat": 4,
  "nbformat_minor": 0,
  "metadata": {
    "colab": {
      "provenance": []
    },
    "kernelspec": {
      "name": "python3",
      "display_name": "Python 3"
    },
    "language_info": {
      "name": "python"
    }
  },
  "cells": [
    {
      "cell_type": "markdown",
      "source": [
        "**Q.1 Create a variable with your name and print each character using a loop.**"
      ],
      "metadata": {
        "id": "wNuKkPPCrrgo"
      }
    },
    {
      "cell_type": "code",
      "source": [
        "name = \"AsadAli\"\n",
        "for char in name:\n",
        " print(char)"
      ],
      "metadata": {
        "colab": {
          "base_uri": "https://localhost:8080/"
        },
        "id": "ChdrT7vEryEw",
        "outputId": "c3391042-fbec-40e4-b399-a0a5d8d49244"
      },
      "execution_count": null,
      "outputs": [
        {
          "output_type": "stream",
          "name": "stdout",
          "text": [
            "A\n",
            "s\n",
            "a\n",
            "d\n",
            "A\n",
            "l\n",
            "i\n"
          ]
        }
      ]
    },
    {
      "cell_type": "markdown",
      "source": [
        "**Q. 2 Use slicing to print the first 4 characters of a string.**"
      ],
      "metadata": {
        "id": "O7a3HmXbsZeK"
      }
    },
    {
      "cell_type": "code",
      "source": [
        "my_string = \"Hello World!\"\n",
        "print(my_string[0:4])"
      ],
      "metadata": {
        "colab": {
          "base_uri": "https://localhost:8080/"
        },
        "id": "U-B5l1R8siK_",
        "outputId": "26770573-1e8b-4e33-8e62-2d96253a4d92"
      },
      "execution_count": null,
      "outputs": [
        {
          "output_type": "stream",
          "name": "stdout",
          "text": [
            "Hell\n"
          ]
        }
      ]
    },
    {
      "cell_type": "markdown",
      "source": [
        "**Q.3 Ask the user to input a number as a string, convert it to int, add 10, and print the result**"
      ],
      "metadata": {
        "id": "MeSJ9Xsute3w"
      }
    },
    {
      "cell_type": "code",
      "source": [
        "user_input = input(\"Enter a number as a string: \")\n",
        "converted_number = int(user_input)\n",
        "print(converted_number+10)"
      ],
      "metadata": {
        "colab": {
          "base_uri": "https://localhost:8080/"
        },
        "id": "xBhrP-3jtWzl",
        "outputId": "75a817a1-8a43-4a56-9583-72e48e88902f"
      },
      "execution_count": null,
      "outputs": [
        {
          "output_type": "stream",
          "name": "stdout",
          "text": [
            "Enter a number as a string: 60\n",
            "70\n"
          ]
        }
      ]
    },
    {
      "cell_type": "markdown",
      "source": [
        "**Q.4 Create a list of string numbers like [\"10\", \"20\", \"30\"], convert to int, and print updated list.**"
      ],
      "metadata": {
        "id": "FgdWH6WwubDr"
      }
    },
    {
      "cell_type": "code",
      "source": [
        "string_number = [\"80\", \"90\", \"70\", \"50\"]\n",
        "converted_number = [int(num)for num in string_number]\n",
        "print(converted_number)"
      ],
      "metadata": {
        "colab": {
          "base_uri": "https://localhost:8080/"
        },
        "id": "yCdQH4jkuh-b",
        "outputId": "1d2044ed-5dbd-43f5-a3a6-9bee000d012d"
      },
      "execution_count": null,
      "outputs": [
        {
          "output_type": "stream",
          "name": "stdout",
          "text": [
            "[80, 90, 70, 50]\n"
          ]
        }
      ]
    },
    {
      "cell_type": "markdown",
      "source": [
        "**Q.5  Check if \"Python\" is in a string using in and print a message.**"
      ],
      "metadata": {
        "id": "cb7nC39twldx"
      }
    },
    {
      "cell_type": "code",
      "source": [
        "my_string = \"python is a easy language in programing\"\n",
        "if \"python\" in my_string:\n",
        " print(\"yes python in your string\")\n",
        "else:\n",
        "  print(\"python not in your string\")"
      ],
      "metadata": {
        "colab": {
          "base_uri": "https://localhost:8080/"
        },
        "id": "EWvwaZDTwbrP",
        "outputId": "785d2e1c-4eb6-4d70-9541-2bfbae8ff6a9"
      },
      "execution_count": null,
      "outputs": [
        {
          "output_type": "stream",
          "name": "stdout",
          "text": [
            "yes python in your string\n"
          ]
        }
      ]
    },
    {
      "cell_type": "markdown",
      "source": [
        "**Q.6 Create a string, convert it to uppercase, lowercase, and title case.**"
      ],
      "metadata": {
        "id": "YGI9OEjZx2iQ"
      }
    },
    {
      "cell_type": "code",
      "source": [
        "my_string = \"python vs java\"\n",
        "print (my_string.upper())"
      ],
      "metadata": {
        "colab": {
          "base_uri": "https://localhost:8080/"
        },
        "id": "6RD0cAi7x9rM",
        "outputId": "fe113fc7-6c8d-4341-dcb1-c30f0e9e695f"
      },
      "execution_count": null,
      "outputs": [
        {
          "output_type": "stream",
          "name": "stdout",
          "text": [
            "PYTHON VS JAVA\n"
          ]
        }
      ]
    },
    {
      "cell_type": "markdown",
      "source": [
        "**Q.7 Use type() to display data types before and after casting from string to integer.**"
      ],
      "metadata": {
        "id": "nP57ThIey8ZQ"
      }
    },
    {
      "cell_type": "code",
      "source": [
        "my_string = \"123456789\"\n",
        "print(\"Before casting:\",type(my_string))\n",
        "converted_integer = int(my_string)\n",
        "print(\"After casting:\", type(converted_integer))"
      ],
      "metadata": {
        "colab": {
          "base_uri": "https://localhost:8080/"
        },
        "id": "GQlw6zy5zEFo",
        "outputId": "a545a0b5-2aa6-40d4-9d0d-ce4479a0433e"
      },
      "execution_count": null,
      "outputs": [
        {
          "output_type": "stream",
          "name": "stdout",
          "text": [
            "Before casting: <class 'str'>\n",
            "After casting: <class 'int'>\n"
          ]
        }
      ]
    },
    {
      "cell_type": "markdown",
      "source": [
        "**Q.8 Take user input for name and age. Check if age (casted to int) is above 18 and print eligibility.**"
      ],
      "metadata": {
        "id": "2TPxiTQf2N77"
      }
    },
    {
      "cell_type": "code",
      "source": [
        "name = input(\"Enter your name: \")\n",
        "age = input(\"Enter your age: \")\n",
        "age = (int(age))\n",
        "if age> 18:\n",
        " print(\"Welcome name\", \"you are eligible for this program\")\n",
        "else:\n",
        " print(\"Sorry name\", \"you are not eligible for this program\")"
      ],
      "metadata": {
        "colab": {
          "base_uri": "https://localhost:8080/"
        },
        "id": "16Mvh39G2bZF",
        "outputId": "2b027ed9-2ae4-497a-84b7-821d7c95699a"
      },
      "execution_count": null,
      "outputs": [
        {
          "output_type": "stream",
          "name": "stdout",
          "text": [
            "Enter your name: asad\n",
            "Enter your age: 22\n",
            "Welcome name you are eligible for this program\n"
          ]
        }
      ]
    },
    {
      "cell_type": "markdown",
      "source": [
        "**Q.9 Create a variable with mixed-case text. Check if the text is uppercase and print results.**"
      ],
      "metadata": {
        "id": "MmmMw60P5waU"
      }
    },
    {
      "cell_type": "code",
      "source": [
        "my_variable = \"pytonn786.99\"\n",
        "if my_variable.isupper:\n",
        " print(\"your_variable is in uppercase\")\n",
        "else:\n",
        "  print(\"your variable is in not uppercase\")"
      ],
      "metadata": {
        "colab": {
          "base_uri": "https://localhost:8080/"
        },
        "id": "GmCAH0zW53Xu",
        "outputId": "7fd4579a-07f4-4dbd-d5be-b80bcc88b3fa"
      },
      "execution_count": null,
      "outputs": [
        {
          "output_type": "stream",
          "name": "stdout",
          "text": [
            "your_variable is in uppercase\n"
          ]
        }
      ]
    },
    {
      "cell_type": "markdown",
      "source": [
        "**Q.10 Create a string with numbers, convert it to float and int, and print all conversions with their types.**"
      ],
      "metadata": {
        "id": "7ZK7LELj74lJ"
      }
    },
    {
      "cell_type": "code",
      "source": [
        "my_string = \"786\"\n",
        "converted_float = float(my_string)\n",
        "converted_int = int(converted_float)\n",
        "print(\"Original string:\", my_string, \" type:\", type(my_string))\n",
        "print(\"as float:\", converted_float, \" type:\", type(converted_float))\n",
        "print(\"as int:\", converted_int, \" type:\", type(converted_int))"
      ],
      "metadata": {
        "colab": {
          "base_uri": "https://localhost:8080/"
        },
        "id": "Qr5Np9Ux8Ajn",
        "outputId": "829283f2-1d08-477c-b113-dbdc1da0b6f3"
      },
      "execution_count": null,
      "outputs": [
        {
          "output_type": "stream",
          "name": "stdout",
          "text": [
            "Original string: 786  type: <class 'str'>\n",
            "as float: 786.0  type: <class 'float'>\n",
            "as int: 786  type: <class 'int'>\n"
          ]
        }
      ]
    }
  ]
}