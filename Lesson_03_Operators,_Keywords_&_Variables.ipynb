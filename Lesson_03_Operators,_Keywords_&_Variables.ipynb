{
  "cells": [
    {
      "cell_type": "markdown",
      "metadata": {
        "id": "-2_i9D0ljfjb"
      },
      "source": [
        "**Q.1 Create variables a = 15 and b = 4. Perform and print all arithmetic operations.**"
      ]
    },
    {
      "cell_type": "code",
      "execution_count": null,
      "metadata": {
        "colab": {
          "base_uri": "https://localhost:8080/"
        },
        "id": "JqZFxxWyjpcZ",
        "outputId": "7c9a2a22-c1ba-419f-8c91-b69ba72f589f"
      },
      "outputs": [
        {
          "name": "stdout",
          "output_type": "stream",
          "text": [
            "a + b = 19\n",
            "a - b = 11\n",
            "a * b = 60\n",
            "a ** b = 50625\n",
            "a / b = 3.75\n",
            "a // b = 3\n",
            "a % b = 3\n"
          ]
        }
      ],
      "source": [
        "a = 15\n",
        "b = 4\n",
        "print(\"a + b =\", a +b)\n",
        "print(\"a - b =\", a -b)\n",
        "print(\"a * b =\", a *b)\n",
        "print(\"a ** b =\", a **b)\n",
        "print(\"a / b =\", a /b)\n",
        "print(\"a // b =\", a //b)\n",
        "print(\"a % b =\", a %b)"
      ]
    },
    {
      "cell_type": "markdown",
      "metadata": {
        "id": "uOmdaBkunNPs"
      },
      "source": [
        "**Q.2 Use comparison operators to compare a and b and print results**"
      ]
    },
    {
      "cell_type": "code",
      "execution_count": null,
      "metadata": {
        "colab": {
          "base_uri": "https://localhost:8080/"
        },
        "id": "nYUZLsCznSgq",
        "outputId": "ded353b6-231d-43f2-a0ba-368297445b91"
      },
      "outputs": [
        {
          "name": "stdout",
          "output_type": "stream",
          "text": [
            "a == b = False\n",
            "a != b = True\n",
            "a > b = False\n",
            "a < b = True\n",
            "a >= b = False\n",
            "a <= b = True\n"
          ]
        }
      ],
      "source": [
        "a: int = 8\n",
        "b: int = 9\n",
        "print(\"a == b =\", a == b)\n",
        "print(\"a != b =\", a != b)\n",
        "print(\"a > b =\", a > b)\n",
        "print(\"a < b =\", a < b)\n",
        "print(\"a >= b =\", a >= b)\n",
        "print(\"a <= b =\", a <= b)"
      ]
    },
    {
      "cell_type": "markdown",
      "metadata": {
        "id": "-x0MC8_ioqql"
      },
      "source": [
        "**Q.3 Create boolean variables x = True, y = False. Perform logical operations and print outcomes.**"
      ]
    },
    {
      "cell_type": "code",
      "execution_count": null,
      "metadata": {
        "colab": {
          "base_uri": "https://localhost:8080/"
        },
        "id": "18rqMFuGsp7A",
        "outputId": "db50910c-6183-443b-ac19-6be74115ad94"
      },
      "outputs": [
        {
          "name": "stdout",
          "output_type": "stream",
          "text": [
            "x and y = False\n",
            "x or y = True\n",
            "not x = False\n",
            "not y = True\n"
          ]
        }
      ],
      "source": [
        "x: bool = True\n",
        "y: bool = False\n",
        "print(\"x and y =\", x and y)\n",
        "print(\"x or y =\", x or y)\n",
        "print(\"not x =\", not x)\n",
        "print(\"not y =\", not y)"
      ]
    },
    {
      "cell_type": "markdown",
      "metadata": {
        "id": "AbVUx7m1upio"
      },
      "source": [
        "**Q.4 Use assignment operators (+=, -=, *=, etc.) on a variable and print updated values.**"
      ]
    },
    {
      "cell_type": "code",
      "execution_count": null,
      "metadata": {
        "colab": {
          "base_uri": "https://localhost:8080/"
        },
        "id": "s_u8yTeYwm2H",
        "outputId": "d87b5929-8fb9-4376-cced-a48b8f51a932"
      },
      "outputs": [
        {
          "name": "stdout",
          "output_type": "stream",
          "text": [
            "x = 4\n",
            "x += 4  8\n",
            "x -= 4  4\n",
            "x *= 4  16\n",
            "x /= 4  4.0\n",
            "x //=  1.0\n"
          ]
        }
      ],
      "source": [
        "x = 4\n",
        "print(\"x =\", x)\n",
        "x += 4\n",
        "print(\"x += 4 \", x)\n",
        "x -= 4\n",
        "print(\"x -= 4 \", x)\n",
        "x *= 4\n",
        "print(\"x *= 4 \", x)\n",
        "x /= 4\n",
        "print(\"x /= 4 \", x)\n",
        "x //= x\n",
        "print(\"x //= \", x)"
      ]
    },
    {
      "cell_type": "markdown",
      "metadata": {
        "id": "5_iSn5782BCD"
      },
      "source": [
        "**Q.5 Use is and is not operators with two equal values**"
      ]
    },
    {
      "cell_type": "code",
      "execution_count": null,
      "metadata": {
        "colab": {
          "base_uri": "https://localhost:8080/"
        },
        "id": "thwDfY591wQw",
        "outputId": "f92b4f43-86f0-496b-c606-a4adf41248c5"
      },
      "outputs": [
        {
          "name": "stdout",
          "output_type": "stream",
          "text": [
            "True\n",
            "False\n"
          ]
        }
      ],
      "source": [
        "a = 50\n",
        "b = 50\n",
        "print(a is b)\n",
        "print(a is not b)"
      ]
    },
    {
      "cell_type": "markdown",
      "metadata": {
        "id": "WUL68mdv7ImC"
      },
      "source": [
        "**Q.6 Check the presence of words using in and not in operators in a string.**"
      ]
    },
    {
      "cell_type": "code",
      "execution_count": null,
      "metadata": {
        "colab": {
          "base_uri": "https://localhost:8080/"
        },
        "id": "mjbSXPkv7MVm",
        "outputId": "710aee37-ad98-4ffa-e8fd-a10c5c4bac6f"
      },
      "outputs": [
        {
          "name": "stdout",
          "output_type": "stream",
          "text": [
            "True\n",
            "False\n",
            "True\n",
            "False\n"
          ]
        }
      ],
      "source": [
        "sentence = \"i love pakistani language\"\n",
        "#in\n",
        "print(\"love\" in sentence)\n",
        "print(\"python\" in sentence)\n",
        "#not in\n",
        "print(\"java\" not in sentence)\n",
        "print(\"pakistani\" not in sentence)"
      ]
    },
    {
      "cell_type": "markdown",
      "metadata": {
        "id": "GbmjZelhK15H"
      },
      "source": [
        "**Q.7 Import the keyword module and print all Python keywords.**"
      ]
    },
    {
      "cell_type": "code",
      "execution_count": null,
      "metadata": {
        "colab": {
          "base_uri": "https://localhost:8080/"
        },
        "id": "u49STrWQLUMx",
        "outputId": "319bdf98-20c4-4c25-faec-e89af0e87542"
      },
      "outputs": [
        {
          "name": "stdout",
          "output_type": "stream",
          "text": [
            "the keyword list is:\n",
            "['False', 'None', 'True', 'and', 'as', 'assert', 'async', 'await', 'break', 'class', 'continue', 'def', 'del', 'elif', 'else', 'except', 'finally', 'for', 'from', 'global', 'if', 'import', 'in', 'is', 'lambda', 'nonlocal', 'not', 'or', 'pass', 'raise', 'return', 'try', 'while', 'with', 'yield']\n"
          ]
        }
      ],
      "source": [
        "import keyword\n",
        "print(\"the keyword list is:\")\n",
        "print(keyword.kwlist)"
      ]
    },
    {
      "cell_type": "markdown",
      "metadata": {
        "id": "nQCM7BpvMi_I"
      },
      "source": [
        "**Q.8 Declare variables name, age, height, and print their values with types.**"
      ]
    },
    {
      "cell_type": "code",
      "execution_count": null,
      "metadata": {
        "colab": {
          "base_uri": "https://localhost:8080/"
        },
        "id": "Tto4SlSzMxTm",
        "outputId": "5b18dfb8-e02e-4a78-cc00-cbd619793aa6"
      },
      "outputs": [
        {
          "output_type": "stream",
          "name": "stdout",
          "text": [
            "value of name: asad_ali <class 'str'>\n",
            "value of age: 22 <class 'int'>\n",
            "value of heigt: 5.5 <class 'float'>\n"
          ]
        }
      ],
      "source": [
        "name = \"asad_ali\"\n",
        "age = 22\n",
        "height = 5.5\n",
        "print(\"value of name:\", name, type(name))\n",
        "print(\"value of age:\", age, type(age))\n",
        "print(\"value of heigt:\", height, type(height))"
      ]
    },
    {
      "cell_type": "markdown",
      "source": [
        "**Q.9 Write 5 valid and 3 invalid variable names (with comments).**"
      ],
      "metadata": {
        "id": "9dczZq2ZaILP"
      }
    },
    {
      "cell_type": "code",
      "source": [
        "ali = \"valid\"           # چھوٹے حرف سے شروع ہو رہا ہے\n",
        "_pakistan = \"valid\"     # انڈر اسکور (_) سے شروع ہو رہا ہے\n",
        "Bilal = \"valid\"         # بڑے حرف سے شروع ہو رہا ہے\n",
        "asad_ali = \"valid\"      # حروف اور انڈر اسکور پر مشتمل ہے\n",
        "ai_hub = \"valid\"        # حروف اور انڈر اسکور پر مشتمل ہے\n",
        "\n",
        "\n",
        "# 345ali = \"invalid\"      #  کیونکہ یہ ہندسے (digit) سے شروع ہو رہا ہے\n",
        "# if = \"invalid\"          # کیونکہ \"if\" ایک Python کا **keyword** ہے\n",
        "# my list = \"invalid\"     # کیونکہ اس میں **space** ہے، جو allowed نہیں\n"
      ],
      "metadata": {
        "id": "cjJ45oqYaP9S"
      },
      "execution_count": null,
      "outputs": []
    },
    {
      "cell_type": "markdown",
      "source": [
        "**Q.10 Assign multiple values in one line and use type() and id() to inspect them.**"
      ],
      "metadata": {
        "id": "bLInfPMye61O"
      }
    },
    {
      "cell_type": "code",
      "source": [
        "x,y,z = 1, 2.3, \"pakistan\"\n",
        "print(\"x =\", x, type(x), id(x))\n",
        "print(\"y =\", y, type(y), id(y))\n",
        "print(\"z =\", z, type(z), id(z))"
      ],
      "metadata": {
        "colab": {
          "base_uri": "https://localhost:8080/"
        },
        "id": "a2bEmxxOfHY3",
        "outputId": "c2382e29-2b91-4b11-a46f-95e1253fb132"
      },
      "execution_count": null,
      "outputs": [
        {
          "output_type": "stream",
          "name": "stdout",
          "text": [
            "x = 1 <class 'int'> 10757736\n",
            "y = 2.3 <class 'float'> 134579727858320\n",
            "z = pakistan <class 'str'> 134579754748016\n"
          ]
        }
      ]
    },
    {
      "cell_type": "code",
      "source": [
        "a, b, c = 10, 5.5, \"hello\"\n",
        "print(\"a =\", a, \"| type:\", type(a), \"| id:\", id(a))\n",
        "print(\"b =\", b, \"| type:\", type(b), \"| id:\", id(b))\n",
        "print(\"c =\", c, \"| type:\", type(c), \"| id:\", id(c))\n"
      ],
      "metadata": {
        "id": "n6UBsEg_g8t6"
      },
      "execution_count": null,
      "outputs": []
    }
  ],
  "metadata": {
    "colab": {
      "provenance": []
    },
    "kernelspec": {
      "display_name": "Python 3",
      "name": "python3"
    },
    "language_info": {
      "name": "python"
    }
  },
  "nbformat": 4,
  "nbformat_minor": 0
}