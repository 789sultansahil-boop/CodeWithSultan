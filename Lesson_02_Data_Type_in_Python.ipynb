{
  "nbformat": 4,
  "nbformat_minor": 0,
  "metadata": {
    "colab": {
      "provenance": []
    },
    "kernelspec": {
      "name": "python3",
      "display_name": "Python 3"
    },
    "language_info": {
      "name": "python"
    }
  },
  "cells": [
    {
      "cell_type": "markdown",
      "source": [
        "**𝐏𝐫𝐚𝐜𝐭𝐢𝐜𝐚𝐥 𝐖𝐨𝐫𝐤 – 𝐇𝐚𝐧𝐝𝐬-𝐨𝐧 𝐄𝐱𝐞𝐫𝐜𝐢𝐬𝐞𝐬**.\n",
        "**Asad Ali**"
      ],
      "metadata": {
        "id": "ihPtOPUccvHk"
      }
    },
    {
      "cell_type": "markdown",
      "source": [
        "**Q.1**\n",
        "**Create variables of types: 𝐬𝐭𝐫𝐢𝐧𝐠, 𝐢𝐧𝐭𝐞𝐠𝐞𝐫, 𝐟𝐥𝐨𝐚𝐭, and 𝐛𝐨𝐨𝐥𝐞𝐚𝐧. Print their 𝐯𝐚𝐥𝐮𝐞𝐬 and 𝐭𝐲𝐩𝐞𝐬.**"
      ],
      "metadata": {
        "id": "WaJcDr8kWYay"
      }
    },
    {
      "cell_type": "code",
      "source": [
        "my_hobby = \"reading_book\"\n",
        "favorite_Num = 786\n",
        "salary_income = 7.86\n",
        "my_name_is_asad = \"true\"\n",
        "print(\"my_hobby =\", my_hobby)\n",
        "print(\"favorite_num =\", favorite_Num)\n",
        "print(\"salary_income =\", salary_income)\n",
        "print(\"my_name_is_asad =\", my_name_is_asad)\n"
      ],
      "metadata": {
        "colab": {
          "base_uri": "https://localhost:8080/"
        },
        "id": "CX3OGG64Wqvl",
        "outputId": "34a15905-e260-4522-d474-ef35ebea1e21"
      },
      "execution_count": null,
      "outputs": [
        {
          "output_type": "stream",
          "name": "stdout",
          "text": [
            "my_hobby = reading_book\n",
            "favorite_num = 786\n",
            "salary_income = 7.86\n",
            "my_name_is_asad = true\n"
          ]
        }
      ]
    },
    {
      "cell_type": "markdown",
      "source": [
        "**Q.2**\n",
        " **Make a 𝐥𝐢𝐬𝐭 𝐨𝐟 𝟓 𝐟𝐫𝐮𝐢𝐭𝐬 and print.**"
      ],
      "metadata": {
        "id": "zMH7Sr-VaoHx"
      }
    },
    {
      "cell_type": "code",
      "source": [
        "fruits_list: list = [\"apple\", \"orange\" ,\"banana\", \"mango\", \"lemon\"]\n",
        "print(\"fruits_list:\", fruits_list)\n"
      ],
      "metadata": {
        "id": "FJRoIjmva6jh",
        "colab": {
          "base_uri": "https://localhost:8080/"
        },
        "outputId": "68981256-a7fe-489e-8d52-f2d8f075f125"
      },
      "execution_count": null,
      "outputs": [
        {
          "output_type": "stream",
          "name": "stdout",
          "text": [
            "fruits_list: ['apple', 'orange', 'banana', 'mango', 'lemon']\n"
          ]
        }
      ]
    },
    {
      "cell_type": "markdown",
      "source": [
        "**Q.3**\n",
        "**Create a 𝐭𝐮𝐩𝐥𝐞 𝐨𝐟 𝟑 𝐟𝐚𝐯𝐨𝐫𝐢𝐭𝐞 𝐧𝐮𝐦𝐛𝐞𝐫𝐬 and print.**"
      ],
      "metadata": {
        "id": "XzpcEmUOePry"
      }
    },
    {
      "cell_type": "code",
      "source": [
        "my_tuple = (786, 78.6, 100000)\n",
        "print(\"my_tuple:\", my_tuple)"
      ],
      "metadata": {
        "colab": {
          "base_uri": "https://localhost:8080/"
        },
        "id": "M-T7E8l3efmz",
        "outputId": "eadbf0b9-79e7-4068-f3e8-a14d71eb51c8"
      },
      "execution_count": null,
      "outputs": [
        {
          "output_type": "stream",
          "name": "stdout",
          "text": [
            "my_tuple: (786, 78.6, 100000)\n"
          ]
        }
      ]
    },
    {
      "cell_type": "markdown",
      "source": [
        "**Q.4**\n",
        "**Define a 𝐝𝐢𝐜𝐭𝐢𝐨𝐧𝐚𝐫𝐲 with keys: name, age, city – and print 𝐚𝐥𝐥 𝐤𝐞𝐲-𝐯𝐚𝐥𝐮𝐞 𝐩𝐚𝐢𝐫𝐬.**\n"
      ],
      "metadata": {
        "id": "gNuZekTWfTAf"
      }
    },
    {
      "cell_type": "code",
      "source": [
        "my_dict = {\"name\": \"asad\", \"age\": \"23\", \"city\": \"kasur\"}\n",
        "print(\"my_dict:\", my_dict)"
      ],
      "metadata": {
        "colab": {
          "base_uri": "https://localhost:8080/"
        },
        "id": "K76SJ96Sfe42",
        "outputId": "85d54f79-52e2-49cb-f384-9646cca25f5f"
      },
      "execution_count": null,
      "outputs": [
        {
          "output_type": "stream",
          "name": "stdout",
          "text": [
            "my_dict: {'name': 'asad', 'age': '23', 'city': 'kasur'}\n"
          ]
        }
      ]
    },
    {
      "cell_type": "markdown",
      "source": [
        "**Q.5**\n",
        "**Create a 𝐬𝐞𝐭 𝐨𝐟 𝐮𝐧𝐢𝐪𝐮𝐞 𝐡𝐨𝐛𝐛𝐢𝐞𝐬.**"
      ],
      "metadata": {
        "id": "UiUUu_1LhUs0"
      }
    },
    {
      "cell_type": "code",
      "source": [
        "unique_hobbies = {\"reading\", \"gaming\", \"running\", \"writing\", \"gardening\"}\n",
        "print(\"unique_hobbies:\", unique_hobbies)"
      ],
      "metadata": {
        "colab": {
          "base_uri": "https://localhost:8080/"
        },
        "id": "H6_VaGcChenj",
        "outputId": "f41c8b80-8883-4e35-ebcb-84e2e060c054"
      },
      "execution_count": null,
      "outputs": [
        {
          "output_type": "stream",
          "name": "stdout",
          "text": [
            "unique_hobbies: {'gardening', 'gaming', 'writing', 'reading', 'running'}\n"
          ]
        }
      ]
    },
    {
      "cell_type": "markdown",
      "source": [
        "**Q.6**\n",
        "**Make a 𝐥𝐢𝐬𝐭 𝐨𝐟 𝟓 𝐬𝐭𝐮𝐝𝐞𝐧𝐭 𝐧𝐚𝐦𝐞𝐬 and print.**"
      ],
      "metadata": {
        "id": "Pc_qjUdnjKg-"
      }
    },
    {
      "cell_type": "code",
      "source": [
        "students_names = [\"bilal_ahmed\", \"rehan\", \"kashif\", \"majid\"]\n",
        "print(\"students_names:\", students_names)"
      ],
      "metadata": {
        "colab": {
          "base_uri": "https://localhost:8080/"
        },
        "id": "yvXtouXijXOl",
        "outputId": "4db7d484-48b8-4400-b59b-9503d589eee7"
      },
      "execution_count": null,
      "outputs": [
        {
          "output_type": "stream",
          "name": "stdout",
          "text": [
            "students_names: ['bilal_ahmed', 'rehan', 'kashif', 'majid']\n"
          ]
        }
      ]
    },
    {
      "cell_type": "markdown",
      "source": [
        "**Q.7**\n",
        "**Create a 𝐝𝐢𝐜𝐭𝐢𝐨𝐧𝐚𝐫𝐲 of 3 programming languages with their creators and print them.**"
      ],
      "metadata": {
        "id": "Jh2tcYrimqLe"
      }
    },
    {
      "cell_type": "code",
      "source": [
        "my_dict: dict = {\"python\": \"guido_van_rossum\", \"java\": \"james_gosling\", \"c++\": \"bjarne_stroustrup\"}\n",
        "print(type(my_dict), \"my_dict =\", my_dict)"
      ],
      "metadata": {
        "colab": {
          "base_uri": "https://localhost:8080/"
        },
        "id": "o7pCkvqskPhb",
        "outputId": "a01d3812-1212-4c20-a1b3-3999b40a987e"
      },
      "execution_count": null,
      "outputs": [
        {
          "output_type": "stream",
          "name": "stdout",
          "text": [
            "<class 'dict'> my_dict = {'python': 'guido_van_rossum', 'java': 'james_gosling', 'c++': 'bjarne_stroustrup'}\n"
          ]
        }
      ]
    },
    {
      "cell_type": "markdown",
      "source": [
        "**Q.8**\n",
        "**Store 3 𝐟𝐥𝐨𝐚𝐭 numbers and calculate their 𝐚𝐯𝐞𝐫𝐚𝐠𝐞.**"
      ],
      "metadata": {
        "id": "MQfbEBiAq6fM"
      }
    },
    {
      "cell_type": "code",
      "source": [
        "num1 = 8.90\n",
        "num2 = 10.7\n",
        "num3 = 10.0\n",
        "average = num1+num2+num3\n",
        "print(\"average=\", average)"
      ],
      "metadata": {
        "colab": {
          "base_uri": "https://localhost:8080/"
        },
        "id": "pWN37XP7rCcU",
        "outputId": "e718ea45-a91b-4c30-b7aa-d77dbe4f221d"
      },
      "execution_count": null,
      "outputs": [
        {
          "output_type": "stream",
          "name": "stdout",
          "text": [
            "average= 29.6\n"
          ]
        }
      ]
    },
    {
      "cell_type": "markdown",
      "source": [
        "**Q.9**\n",
        "**Create a 𝐭𝐮𝐩𝐥𝐞 𝐨𝐟 𝟒 𝐜𝐢𝐭𝐢𝐞𝐬.**"
      ],
      "metadata": {
        "id": "NYVgbWQerba8"
      }
    },
    {
      "cell_type": "code",
      "source": [
        "cities: tuple = (\"lahore\", \"gujranwla\", \"kasur\")\n",
        "print(cities)"
      ],
      "metadata": {
        "colab": {
          "base_uri": "https://localhost:8080/"
        },
        "id": "OS5qn73DsPRT",
        "outputId": "410f3171-5181-4d51-b605-563f14c2fc09"
      },
      "execution_count": null,
      "outputs": [
        {
          "output_type": "stream",
          "name": "stdout",
          "text": [
            "('lahore', 'gujranwla', 'kasur')\n"
          ]
        }
      ]
    },
    {
      "cell_type": "markdown",
      "source": [
        "**Q.10**\n",
        "**Make a 𝐬𝐞𝐭 𝐨𝐟 𝐯𝐨𝐰𝐞𝐥𝐬 in a string and print.**"
      ],
      "metadata": {
        "id": "p2Mom_ravaMy"
      }
    },
    {
      "cell_type": "code",
      "source": [
        "text = \"Artificial_Intelligence\"\n",
        "vowels = {'a', 'e', 'i', 'o', 'u'}\n",
        "vowel_set = {char for char in text.lower() if char in vowels}\n",
        "print(\"vowels in the string:\", vowel_set)"
      ],
      "metadata": {
        "colab": {
          "base_uri": "https://localhost:8080/"
        },
        "id": "vMKzOWSovjMx",
        "outputId": "e89e3172-ca5a-4e46-cacf-bdf296e7fd14"
      },
      "execution_count": null,
      "outputs": [
        {
          "output_type": "stream",
          "name": "stdout",
          "text": [
            "vowels in the string: {'a', 'e', 'i'}\n"
          ]
        }
      ]
    }
  ]
}