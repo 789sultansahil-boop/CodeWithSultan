{
  "nbformat": 4,
  "nbformat_minor": 0,
  "metadata": {
    "colab": {
      "provenance": []
    },
    "kernelspec": {
      "name": "python3",
      "display_name": "Python 3"
    },
    "language_info": {
      "name": "python"
    }
  },
  "cells": [
    {
      "cell_type": "markdown",
      "source": [
        "**Q.1 Write a program to check if a number is positive, negative, or zero.**"
      ],
      "metadata": {
        "id": "lIXsLxuu9EP6"
      }
    },
    {
      "cell_type": "code",
      "source": [
        "num = -5\n",
        "\n",
        "if num > -5:\n",
        "  print(\"the num is positive\")\n",
        "elif num < -5:\n",
        "  print(\"the num is negative\")\n",
        "else:\n",
        "  print(\"the num is zero\")"
      ],
      "metadata": {
        "colab": {
          "base_uri": "https://localhost:8080/"
        },
        "id": "uAbUWxrs9Iko",
        "outputId": "12600b63-fe64-452c-964b-8ed3063cbf3c"
      },
      "execution_count": 7,
      "outputs": [
        {
          "output_type": "stream",
          "name": "stdout",
          "text": [
            "the num is zero\n"
          ]
        }
      ]
    },
    {
      "cell_type": "markdown",
      "source": [
        "**Q.2 Input a number and print whether it is even or odd**"
      ],
      "metadata": {
        "id": "y5TjesrABmlC"
      }
    },
    {
      "cell_type": "code",
      "source": [
        "num = 0\n",
        "\n",
        "if num > 0:\n",
        "  if num % 2 == 0:\n",
        "    print(\"the number is positive and even\")\n",
        "  else:\n",
        "    print(\"the number is positive and odd\")\n",
        "elif num < 0:\n",
        "  if num % 2 ==0:\n",
        "    print(\"the number is negative and even\")\n",
        "  else:\n",
        "    print(\"the number is negative and odd\")\n",
        "else:\n",
        "  print(\"the number is zero and even\")\n"
      ],
      "metadata": {
        "id": "escFPDyX_cms",
        "colab": {
          "base_uri": "https://localhost:8080/"
        },
        "outputId": "66a91492-003c-467d-defb-22f6b49f8b1e"
      },
      "execution_count": 10,
      "outputs": [
        {
          "output_type": "stream",
          "name": "stdout",
          "text": [
            "the number is zero and even\n"
          ]
        }
      ]
    },
    {
      "cell_type": "markdown",
      "source": [
        "**Q.3 Ask age and print if person is eligible to vote**"
      ],
      "metadata": {
        "id": "WKRLXihCE4uC"
      }
    },
    {
      "cell_type": "code",
      "source": [
        "age = int(input(\"enter your age: \"))\n",
        "if age >= 18:\n",
        "  print(\"the person is eligible for vote\")\n",
        "else:\n",
        "  print(\"the person is not eligible for vote\")"
      ],
      "metadata": {
        "colab": {
          "base_uri": "https://localhost:8080/"
        },
        "id": "pm0gELTxE8wb",
        "outputId": "c6f9f9a5-03dd-46e8-b833-39f5a84503e2"
      },
      "execution_count": 15,
      "outputs": [
        {
          "output_type": "stream",
          "name": "stdout",
          "text": [
            "enter your age: 19\n",
            "the person is eligible for vote\n"
          ]
        }
      ]
    },
    {
      "cell_type": "markdown",
      "source": [
        "**Q.4 Check if a number is divisible by 3, 5, or both**"
      ],
      "metadata": {
        "id": "s-i2VuprGdv_"
      }
    },
    {
      "cell_type": "code",
      "source": [
        "if num % 3 == 0 and num % 5 == 0:\n",
        "    print(\"The number is divisible by both 3 and 5.\")\n",
        "elif num % 3 == 0:\n",
        "    print(\"The number is divisible by 3 only.\")\n",
        "elif num % 5 == 0:\n",
        "    print(\"The number is divisible by 5 only.\")\n",
        "else:\n",
        "    print(\"The number is not divisible by 3 or 5.\")"
      ],
      "metadata": {
        "colab": {
          "base_uri": "https://localhost:8080/"
        },
        "id": "9OjYSCI-GjBK",
        "outputId": "98265efb-4303-4f54-c97e-c492764b47b8"
      },
      "execution_count": 41,
      "outputs": [
        {
          "output_type": "stream",
          "name": "stdout",
          "text": [
            "The number is divisible by 5 only.\n"
          ]
        }
      ]
    },
    {
      "cell_type": "markdown",
      "source": [
        "**Q.5 Input marks and print grade using if-elif-else**"
      ],
      "metadata": {
        "id": "W_8kC2mjGmLb"
      }
    },
    {
      "cell_type": "code",
      "source": [
        "marks = int(input(\"enter your FA marks\"))\n",
        "\n",
        "if marks > 850:\n",
        "  print(\"the grade is A+\")\n",
        "elif marks > 600:\n",
        "  print(\"the grade is B\")\n",
        "elif marks > 500:\n",
        "  print(\"the grade is C\")\n",
        "else:\n",
        " print(\"the person is failed\")"
      ],
      "metadata": {
        "colab": {
          "base_uri": "https://localhost:8080/"
        },
        "id": "jbSj0k--GrI_",
        "outputId": "48c250e7-ba99-4cb5-f2c7-cc4c36029884"
      },
      "execution_count": 17,
      "outputs": [
        {
          "output_type": "stream",
          "name": "stdout",
          "text": [
            "enter your FA marks700\n",
            "the grade is B\n"
          ]
        }
      ]
    },
    {
      "cell_type": "markdown",
      "source": [
        "**Q.6 Print numbers from 1 to 10 using a loop**"
      ],
      "metadata": {
        "id": "Oq0B27jTIoKm"
      }
    },
    {
      "cell_type": "code",
      "source": [
        "for i in range(1,11):\n",
        "  print(i)"
      ],
      "metadata": {
        "colab": {
          "base_uri": "https://localhost:8080/"
        },
        "id": "C0OIMx4YIqSy",
        "outputId": "75085c6c-c65c-475a-e3db-210ab03dec22"
      },
      "execution_count": 23,
      "outputs": [
        {
          "output_type": "stream",
          "name": "stdout",
          "text": [
            "1\n",
            "2\n",
            "3\n",
            "4\n",
            "5\n",
            "6\n",
            "7\n",
            "8\n",
            "9\n",
            "10\n"
          ]
        }
      ]
    },
    {
      "cell_type": "markdown",
      "source": [
        "**Q.7 Print the multiplication table of 6**"
      ],
      "metadata": {
        "id": "hm4kCR9MKdaZ"
      }
    },
    {
      "cell_type": "code",
      "source": [
        "for i in range(1,11):\n",
        "  print(f\"6 * {i} = {6 * i}\")"
      ],
      "metadata": {
        "colab": {
          "base_uri": "https://localhost:8080/"
        },
        "id": "p959p0zxKjcN",
        "outputId": "33d53ff2-3906-4a3b-9d41-5b3f6ec01607"
      },
      "execution_count": 38,
      "outputs": [
        {
          "output_type": "stream",
          "name": "stdout",
          "text": [
            "6 * 1 = 6\n",
            "6 * 2 = 12\n",
            "6 * 3 = 18\n",
            "6 * 4 = 24\n",
            "6 * 5 = 30\n",
            "6 * 6 = 36\n",
            "6 * 7 = 42\n",
            "6 * 8 = 48\n",
            "6 * 9 = 54\n",
            "6 * 10 = 60\n"
          ]
        }
      ]
    },
    {
      "cell_type": "markdown",
      "source": [
        "**Q.8 Use a loop to print all even numbers between 1 and 20**"
      ],
      "metadata": {
        "id": "uSLh8K0SKkkO"
      }
    },
    {
      "cell_type": "code",
      "source": [
        "for i in range(1,20):\n",
        "  if i % 2 == 0:\n",
        "    print(i)"
      ],
      "metadata": {
        "colab": {
          "base_uri": "https://localhost:8080/"
        },
        "id": "CoCYavMFKph0",
        "outputId": "713e2760-d557-4230-91f5-590a386fe857"
      },
      "execution_count": 39,
      "outputs": [
        {
          "output_type": "stream",
          "name": "stdout",
          "text": [
            "2\n",
            "4\n",
            "6\n",
            "8\n",
            "10\n",
            "12\n",
            "14\n",
            "16\n",
            "18\n"
          ]
        }
      ]
    },
    {
      "cell_type": "markdown",
      "source": [
        "**Q.9 Ask for a word and print each letter on a new line**"
      ],
      "metadata": {
        "id": "mv9k1cBpKp_Y"
      }
    },
    {
      "cell_type": "code",
      "source": [
        "word = (input(\"enter a word: \"))\n",
        "for letter in word:\n",
        "  print(letter)\n",
        "  print()"
      ],
      "metadata": {
        "colab": {
          "base_uri": "https://localhost:8080/"
        },
        "id": "wHbNURlxKvHh",
        "outputId": "4989f62c-b166-4a68-fcae-8d967dd1d0f0"
      },
      "execution_count": 31,
      "outputs": [
        {
          "output_type": "stream",
          "name": "stdout",
          "text": [
            "enter a word: python\n",
            "p\n",
            "\n",
            "y\n",
            "\n",
            "t\n",
            "\n",
            "h\n",
            "\n",
            "o\n",
            "\n",
            "n\n",
            "\n"
          ]
        }
      ]
    },
    {
      "cell_type": "markdown",
      "source": [
        "**Q.10 Count how many vowels are in the word “education”**"
      ],
      "metadata": {
        "id": "NccEqV00Kvis"
      }
    },
    {
      "cell_type": "code",
      "source": [
        "word = \"education\"\n",
        "count = sum(1 for letter in word if letter in \"aeiouu\")\n",
        "print(\"numbers of wowels in :\",count)"
      ],
      "metadata": {
        "colab": {
          "base_uri": "https://localhost:8080/"
        },
        "id": "OnLkw7tcK0nK",
        "outputId": "33e7db74-c5a4-492c-ca39-35a2388a6f24"
      },
      "execution_count": 40,
      "outputs": [
        {
          "output_type": "stream",
          "name": "stdout",
          "text": [
            "numbers of wowels in : 5\n"
          ]
        }
      ]
    }
  ]
}