{
  "nbformat": 4,
  "nbformat_minor": 0,
  "metadata": {
    "colab": {
      "provenance": []
    },
    "kernelspec": {
      "name": "python3",
      "display_name": "Python 3"
    },
    "language_info": {
      "name": "python"
    }
  },
  "cells": [
    {
      "cell_type": "markdown",
      "source": [
        "# **Q.1 print your favorite color using the print() function**"
      ],
      "metadata": {
        "id": "ha2XJxtzHIno"
      }
    },
    {
      "cell_type": "code",
      "source": [
        "favorite_color = \"red\"\n",
        "print(favorite_color)"
      ],
      "metadata": {
        "colab": {
          "base_uri": "https://localhost:8080/"
        },
        "id": "0gY8PUrCHmY9",
        "outputId": "14cc1388-e5b9-497c-c13b-4b2e8e8ba805"
      },
      "execution_count": 1,
      "outputs": [
        {
          "output_type": "stream",
          "name": "stdout",
          "text": [
            "red\n"
          ]
        }
      ]
    },
    {
      "cell_type": "markdown",
      "source": [
        "**Q.2 create a variable for your birth yrar and print it**\n"
      ],
      "metadata": {
        "id": "Pps4Cmw1IDWB"
      }
    },
    {
      "cell_type": "code",
      "source": [
        "# Storing birth year in a variable\n",
        "birth_year = 2003\n",
        "\n",
        "# Printing the value of the variable\n",
        "print(birth_year)\n"
      ],
      "metadata": {
        "colab": {
          "base_uri": "https://localhost:8080/"
        },
        "id": "gFMu5n7aIAWw",
        "outputId": "0e470c2a-ffed-455c-d247-f87f288e734f"
      },
      "execution_count": null,
      "outputs": [
        {
          "output_type": "stream",
          "name": "stdout",
          "text": [
            "2003\n"
          ]
        }
      ]
    },
    {
      "cell_type": "markdown",
      "source": [
        "**Q.3 store your favorite food in a variable and print it**"
      ],
      "metadata": {
        "id": "tl-pFh75JcMe"
      }
    },
    {
      "cell_type": "code",
      "source": [
        "# Storing favorite food in a variable\n",
        "favorite_food = \"Biryani\"\n",
        "\n",
        "# Printing the value\n",
        "print(favorite_food)\n"
      ],
      "metadata": {
        "colab": {
          "base_uri": "https://localhost:8080/"
        },
        "id": "qWUrj2WeJuc2",
        "outputId": "0f60ba27-b325-47e9-8c62-d4f96112daa2"
      },
      "execution_count": null,
      "outputs": [
        {
          "output_type": "stream",
          "name": "stdout",
          "text": [
            "Biryani\n"
          ]
        }
      ]
    },
    {
      "cell_type": "markdown",
      "source": [
        "**Q.4 Add two numbers using variable and print the result**"
      ],
      "metadata": {
        "id": "5se1McbuMqL_"
      }
    },
    {
      "cell_type": "code",
      "source": [
        "# storing two numbers in a variable\n",
        "num1 = 5\n",
        "num2 = 5\n",
        "sum_result = num1 + num2\n",
        "print(\"Sum is:\", sum_result)\n"
      ],
      "metadata": {
        "colab": {
          "base_uri": "https://localhost:8080/"
        },
        "id": "ittXxRyqNAil",
        "outputId": "8a43b361-199e-462a-d037-24464d1d8484"
      },
      "execution_count": null,
      "outputs": [
        {
          "output_type": "stream",
          "name": "stdout",
          "text": [
            "Sum is: 10\n"
          ]
        }
      ]
    },
    {
      "cell_type": "markdown",
      "source": [
        "**Q.5 Store your hobby in a variable and print a message about it**"
      ],
      "metadata": {
        "id": "589lG7IOO_nd"
      }
    },
    {
      "cell_type": "code",
      "source": [
        "hobby = \"books reading\"\n",
        "print(\"one of my honnies is\", hobby)"
      ],
      "metadata": {
        "colab": {
          "base_uri": "https://localhost:8080/"
        },
        "id": "BIqCvgodPVFX",
        "outputId": "3459b541-60e3-4800-8ab0-959b1931457a"
      },
      "execution_count": null,
      "outputs": [
        {
          "output_type": "stream",
          "name": "stdout",
          "text": [
            "one of my honnies is books reading\n"
          ]
        }
      ]
    },
    {
      "cell_type": "markdown",
      "source": [
        "Q**.6 Declare a variable for your country and print where you are from**"
      ],
      "metadata": {
        "id": "dfg4q_fqQcek"
      }
    },
    {
      "cell_type": "code",
      "source": [
        "Country = \"Pakistan\"\n",
        "print(\"my country is\", Country)\n"
      ],
      "metadata": {
        "colab": {
          "base_uri": "https://localhost:8080/"
        },
        "id": "es5eiZ-BRCyc",
        "outputId": "92c6b815-c0dc-4ce6-f2dd-93aa5f807cc9"
      },
      "execution_count": null,
      "outputs": [
        {
          "output_type": "stream",
          "name": "stdout",
          "text": [
            "my country is Pakistan\n"
          ]
        }
      ]
    },
    {
      "cell_type": "markdown",
      "source": [
        "**Q.7 Use multiple variables (names,favorite color,hobby) and print a full sentence**"
      ],
      "metadata": {
        "id": "_l7HDqbIR60v"
      }
    },
    {
      "cell_type": "code",
      "source": [
        "Names = \"Asad Ali\",\"Bilal_Ahmed\"\n",
        "Favorite_Color = \"Red\",\"Blue\"\n",
        "Hobby = \"reading_books\",\"sycling\"\n",
        "print(Names, Favorite_Color, Hobby)"
      ],
      "metadata": {
        "colab": {
          "base_uri": "https://localhost:8080/"
        },
        "id": "1qvyawYVSZ-4",
        "outputId": "b54f9ed0-8019-4365-84a5-971d44c97aba"
      },
      "execution_count": null,
      "outputs": [
        {
          "output_type": "stream",
          "name": "stdout",
          "text": [
            "('Asad Ali', 'Bilal_Ahmed') ('Red', 'Blue') ('reading_books', 'sycling')\n"
          ]
        }
      ]
    },
    {
      "cell_type": "markdown",
      "source": [
        "**Q.8 Perform subtraction between two numbers using variable and print the answer**"
      ],
      "metadata": {
        "id": "0mDN4ePPVdJ2"
      }
    },
    {
      "cell_type": "code",
      "source": [
        "number1 = 5\n",
        "number2 = 7\n",
        "subtraction_result = num1-number2\n",
        "print(\"subrtaction is:\", subtraction_result)"
      ],
      "metadata": {
        "colab": {
          "base_uri": "https://localhost:8080/"
        },
        "id": "Psoz-PzqV3R1",
        "outputId": "8c38eb64-3004-4a85-a279-c439960bc997"
      },
      "execution_count": null,
      "outputs": [
        {
          "output_type": "stream",
          "name": "stdout",
          "text": [
            "subrtaction is: -2\n"
          ]
        }
      ]
    },
    {
      "cell_type": "markdown",
      "source": [
        "**Q.9 Store an inspirational book title in a variable and print it**"
      ],
      "metadata": {
        "id": "ia4qO1VdXKOY"
      }
    },
    {
      "cell_type": "code",
      "source": [
        "Book_title = \"Quran\"\n",
        "print(\"inspirational_Book i like is:\",Book_title)"
      ],
      "metadata": {
        "colab": {
          "base_uri": "https://localhost:8080/"
        },
        "id": "7ELH4RenXd7c",
        "outputId": "bdcdc784-8275-4bc7-cd48-032cdf59afaa"
      },
      "execution_count": null,
      "outputs": [
        {
          "output_type": "stream",
          "name": "stdout",
          "text": [
            "inspirational_Book i like is: Quran\n"
          ]
        }
      ]
    },
    {
      "cell_type": "markdown",
      "source": [
        "**Q.10 Create a variable for your favorite movie and print it**"
      ],
      "metadata": {
        "id": "Ad-j_IiKY-oF"
      }
    },
    {
      "cell_type": "code",
      "source": [
        "favorite_movie = \"Mehmed: Fetihler Sultanı\"\n",
        "print(\"my favorite movie is:\",favorite_movie)"
      ],
      "metadata": {
        "colab": {
          "base_uri": "https://localhost:8080/"
        },
        "id": "kXiRofZYZMt7",
        "outputId": "7f31a7bb-cc81-42b1-ebc5-5bd2e635f986"
      },
      "execution_count": null,
      "outputs": [
        {
          "output_type": "stream",
          "name": "stdout",
          "text": [
            "my favorite movie is: Mehmed: Fetihler Sultanı\n"
          ]
        }
      ]
    }
  ]
}