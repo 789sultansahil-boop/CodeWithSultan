{
  "nbformat": 4,
  "nbformat_minor": 0,
  "metadata": {
    "colab": {
      "provenance": []
    },
    "kernelspec": {
      "name": "python3",
      "display_name": "Python 3"
    },
    "language_info": {
      "name": "python"
    }
  },
  "cells": [
    {
      "cell_type": "markdown",
      "source": [
        "**Q.1 Create a list of 5 favorite fruits and print each using a loop**"
      ],
      "metadata": {
        "id": "OhseJ_QJV01G"
      }
    },
    {
      "cell_type": "code",
      "source": [
        "fruits = [\"apple\", \"mango\", \"Banana\", \"Almond\", \"Orange\"]\n",
        "for fruits in fruits:\n",
        "  print(fruits)"
      ],
      "metadata": {
        "colab": {
          "base_uri": "https://localhost:8080/"
        },
        "id": "m9BgpDiTV8Mb",
        "outputId": "f917ef94-6337-4859-8779-2d8b3f2b4139"
      },
      "execution_count": 10,
      "outputs": [
        {
          "output_type": "stream",
          "name": "stdout",
          "text": [
            "apple\n",
            "mango\n",
            "Banana\n",
            "Almond\n",
            "Orange\n"
          ]
        }
      ]
    },
    {
      "cell_type": "markdown",
      "source": [
        "**Q.2 Create a tuple with 3 items: name, age, and city. Access and print each**"
      ],
      "metadata": {
        "id": "fonKxkZOW6BK"
      }
    },
    {
      "cell_type": "code",
      "source": [
        "my_tuple = (\"Sultan\", 22, \"Gujranwala\")\n",
        "print(\"name:\", my_tuple[0])\n",
        "print(\"age:\", my_tuple[1])\n",
        "print(\"city:\", my_tuple[2])\n"
      ],
      "metadata": {
        "colab": {
          "base_uri": "https://localhost:8080/"
        },
        "id": "xaYvsBbIW49r",
        "outputId": "7beec9f0-d1cd-40d9-8cb8-7a9418cb24af"
      },
      "execution_count": 4,
      "outputs": [
        {
          "output_type": "stream",
          "name": "stdout",
          "text": [
            "name: Sultan\n",
            "age: 22\n",
            "city: Gujranwala\n"
          ]
        }
      ]
    },
    {
      "cell_type": "markdown",
      "source": [
        "**Q.3 Make a dictionary with student name, class, and score. Print keys and values**"
      ],
      "metadata": {
        "id": "UTW0qOR8aCZN"
      }
    },
    {
      "cell_type": "code",
      "source": [
        "my_dictionary = {\n",
        "    \"student name\": \"Sultan\",\n",
        "    \"class\": \"AI\",\n",
        "    \"score\": \"79\"\n",
        "    }\n",
        "print(\"keys:\", my_dictionary.keys())\n",
        "print(\"values:\", my_dictionary.values())"
      ],
      "metadata": {
        "colab": {
          "base_uri": "https://localhost:8080/"
        },
        "id": "35QE6wWbaJSs",
        "outputId": "eb3996be-99b0-4946-aa4b-d08f0398fa82"
      },
      "execution_count": 33,
      "outputs": [
        {
          "output_type": "stream",
          "name": "stdout",
          "text": [
            "keys: dict_keys(['student name', 'class', 'score'])\n",
            "values: dict_values(['Sultan', 'AI', '79'])\n"
          ]
        }
      ]
    },
    {
      "cell_type": "markdown",
      "source": [
        "**Q.4 Update the list by adding and removing items. Print the updated list**"
      ],
      "metadata": {
        "id": "pOHLJqZabs-R"
      }
    },
    {
      "cell_type": "code",
      "source": [
        "my_list = [\"apple\", \"mango\", \"Banana\", \"Almond\", \"Orange\"]\n",
        "my_list.append(\"Grapes\") #add atem\n",
        "my_list.remove(\"Almond\") #remove atem\n",
        "print(my_list)"
      ],
      "metadata": {
        "colab": {
          "base_uri": "https://localhost:8080/"
        },
        "id": "iQqBz0Rbb0n5",
        "outputId": "c240c1de-3c78-4601-9070-c44f001cc2ba"
      },
      "execution_count": 11,
      "outputs": [
        {
          "output_type": "stream",
          "name": "stdout",
          "text": [
            "['apple', 'mango', 'Banana', 'Orange', 'Grapes']\n"
          ]
        }
      ]
    },
    {
      "cell_type": "markdown",
      "source": [
        "**Q.5 Use a loop to count items in the list and print using len()**"
      ],
      "metadata": {
        "id": "KkKROzccckDq"
      }
    },
    {
      "cell_type": "code",
      "source": [
        "Items = [\"apple\", \"mango\", \"Banana\", \"Almond\", \"Orange\"]\n",
        "count = 0\n",
        "for Items in Items:\n",
        "  count += 1\n",
        "print(\"Count using loop:\", count)\n",
        "print(\"Count using len():\", len(Items))"
      ],
      "metadata": {
        "colab": {
          "base_uri": "https://localhost:8080/"
        },
        "id": "zPJPNNYBcqaQ",
        "outputId": "6b0271da-bccc-40cc-b810-ad2baad14dba"
      },
      "execution_count": 18,
      "outputs": [
        {
          "output_type": "stream",
          "name": "stdout",
          "text": [
            "Count using loop: 5\n",
            "Count using len(): 6\n"
          ]
        }
      ]
    },
    {
      "cell_type": "markdown",
      "source": [
        "**Q.6 Check if a value exists in a tuple using in keyword**"
      ],
      "metadata": {
        "id": "fp4FPgRIegPr"
      }
    },
    {
      "cell_type": "code",
      "source": [
        "my_tuple = (\"Sultan\", 22, \"Gujranwala\")\n",
        "if \"Sultan\" in my_tuple:\n",
        "  print(\"Sultan is in the tuple\")\n",
        "else:\n",
        "  print(\"Sultan not in the tuple\")"
      ],
      "metadata": {
        "colab": {
          "base_uri": "https://localhost:8080/"
        },
        "id": "F3Ckz-gCerpJ",
        "outputId": "4556557d-b84d-4068-893d-e97cafe0ae23"
      },
      "execution_count": 19,
      "outputs": [
        {
          "output_type": "stream",
          "name": "stdout",
          "text": [
            "Sultan is in the tuple\n"
          ]
        }
      ]
    },
    {
      "cell_type": "markdown",
      "source": [
        "**Q.7 Add a new key-value pair to your dictionary and print the result**"
      ],
      "metadata": {
        "id": "7jJB-bt4fLUt"
      }
    },
    {
      "cell_type": "code",
      "source": [
        "my_dictionary = {\n",
        "    \"student name\": \"Sultan\",\n",
        "    \"class\": \"AI\",\n",
        "    \"score\": \"79\"\n",
        "    }\n",
        "my_dictionary[\"Grade\"] = \"5\"\n",
        "print(my_dictionary)"
      ],
      "metadata": {
        "colab": {
          "base_uri": "https://localhost:8080/"
        },
        "id": "IjnNAV7EfRMm",
        "outputId": "5b512333-ff1d-44d0-d034-5bb0c5a2f93e"
      },
      "execution_count": 32,
      "outputs": [
        {
          "output_type": "stream",
          "name": "stdout",
          "text": [
            "{'student name': 'Sultan', 'class': 'AI', 'score': '79', 'Grade': '5'}\n"
          ]
        }
      ]
    },
    {
      "cell_type": "markdown",
      "source": [
        "**Q.8 Write a program that converts a list to a tuple and prints both**"
      ],
      "metadata": {
        "id": "_FhcYj7fgnSH"
      }
    },
    {
      "cell_type": "code",
      "source": [
        "my_list = [\"apple\", \"mango\", \"Banana\", \"Almond\", \"Orange\"]\n",
        "my_tuple = tuple(my_list)\n",
        "print(\"list:\", my_list)\n",
        "print(\"tuple:\", my_tuple)"
      ],
      "metadata": {
        "colab": {
          "base_uri": "https://localhost:8080/"
        },
        "id": "R3tW2LW7gtwC",
        "outputId": "90c9a2cd-1cd1-4516-cda0-3272601a43e1"
      },
      "execution_count": 26,
      "outputs": [
        {
          "output_type": "stream",
          "name": "stdout",
          "text": [
            "list: ['apple', 'mango', 'Banana', 'Almond', 'Orange']\n",
            "tuple: ('apple', 'mango', 'Banana', 'Almond', 'Orange')\n"
          ]
        }
      ]
    },
    {
      "cell_type": "markdown",
      "source": [
        "**Q.9 Create a dictionary of 3 students with marks. Print names who scored > 80**"
      ],
      "metadata": {
        "id": "1Ow_bTkWhlmb"
      }
    },
    {
      "cell_type": "code",
      "source": [
        "students = {\n",
        "    \"student1\": 87,\n",
        "    \"student2\": 78,\n",
        "    \"student3\": 95\n",
        "    }\n",
        "for name, marks in students.items():\n",
        "  if marks > 80:\n",
        "    print(name, \"scored more than 80\")\n"
      ],
      "metadata": {
        "colab": {
          "base_uri": "https://localhost:8080/"
        },
        "id": "wOnCvf9yhsyO",
        "outputId": "f2237521-85e9-4da3-c009-cf4f030bfc29"
      },
      "execution_count": 31,
      "outputs": [
        {
          "output_type": "stream",
          "name": "stdout",
          "text": [
            "student1 scored more than 80\n",
            "student3 scored more than 80\n"
          ]
        }
      ]
    },
    {
      "cell_type": "markdown",
      "source": [
        "**Q.10 Create a tuple of mixed data. Loop through it and print type of each item**"
      ],
      "metadata": {
        "id": "KuAvj-ZQi4JS"
      }
    },
    {
      "cell_type": "code",
      "source": [
        "mixed_tuple = (\"Sultan\", 22,  22.99, True)\n",
        "for Item in mixed_tuple:\n",
        "  print(f\"Item: {Item}, Type: {type(Item)}\")"
      ],
      "metadata": {
        "colab": {
          "base_uri": "https://localhost:8080/"
        },
        "id": "bXl_NeMFi--a",
        "outputId": "b2c8089c-338e-4803-884e-1f25eff9fe85"
      },
      "execution_count": 36,
      "outputs": [
        {
          "output_type": "stream",
          "name": "stdout",
          "text": [
            "Item: Sultan, Type: <class 'str'>\n",
            "Item: 22, Type: <class 'int'>\n",
            "Item: 22.99, Type: <class 'float'>\n",
            "Item: True, Type: <class 'bool'>\n"
          ]
        }
      ]
    }
  ]
}